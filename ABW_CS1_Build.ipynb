{
 "cells": [
  {
   "cell_type": "markdown",
   "metadata": {},
   "source": [
    "# K-Nearest Neighbors with Python \n",
    "\n",
    "Instructions on how nearest neighbors works and how to implement without scikit-learn was accessed at: https://machinelearningmastery.com/tutorial-to-implement-k-nearest-neighbors-in-python-from-scratch/. \n",
    "\n",
    "Iris dataset from UCI can be found here: https://archive.ics.uci.edu/ml/datasets/iris"
   ]
  },
  {
   "cell_type": "code",
   "execution_count": 20,
   "metadata": {},
   "outputs": [],
   "source": [
    "import pandas as pd\n",
    "import numpy as np\n",
    "import matplotlib.pyplot as plt\n",
    "from math import sqrt"
   ]
  },
  {
   "cell_type": "code",
   "execution_count": 17,
   "metadata": {},
   "outputs": [
    {
     "name": "stdout",
     "output_type": "stream",
     "text": [
      "(150, 5)\n"
     ]
    },
    {
     "data": {
      "text/html": [
       "<div>\n",
       "<style scoped>\n",
       "    .dataframe tbody tr th:only-of-type {\n",
       "        vertical-align: middle;\n",
       "    }\n",
       "\n",
       "    .dataframe tbody tr th {\n",
       "        vertical-align: top;\n",
       "    }\n",
       "\n",
       "    .dataframe thead th {\n",
       "        text-align: right;\n",
       "    }\n",
       "</style>\n",
       "<table border=\"1\" class=\"dataframe\">\n",
       "  <thead>\n",
       "    <tr style=\"text-align: right;\">\n",
       "      <th></th>\n",
       "      <th>sepal_len</th>\n",
       "      <th>sepal_wid</th>\n",
       "      <th>petal_len</th>\n",
       "      <th>petal_wid</th>\n",
       "      <th>class</th>\n",
       "    </tr>\n",
       "  </thead>\n",
       "  <tbody>\n",
       "    <tr>\n",
       "      <th>0</th>\n",
       "      <td>5.1</td>\n",
       "      <td>3.5</td>\n",
       "      <td>1.4</td>\n",
       "      <td>0.2</td>\n",
       "      <td>setosa</td>\n",
       "    </tr>\n",
       "    <tr>\n",
       "      <th>1</th>\n",
       "      <td>4.9</td>\n",
       "      <td>3.0</td>\n",
       "      <td>1.4</td>\n",
       "      <td>0.2</td>\n",
       "      <td>setosa</td>\n",
       "    </tr>\n",
       "    <tr>\n",
       "      <th>2</th>\n",
       "      <td>4.7</td>\n",
       "      <td>3.2</td>\n",
       "      <td>1.3</td>\n",
       "      <td>0.2</td>\n",
       "      <td>setosa</td>\n",
       "    </tr>\n",
       "    <tr>\n",
       "      <th>3</th>\n",
       "      <td>4.6</td>\n",
       "      <td>3.1</td>\n",
       "      <td>1.5</td>\n",
       "      <td>0.2</td>\n",
       "      <td>setosa</td>\n",
       "    </tr>\n",
       "    <tr>\n",
       "      <th>4</th>\n",
       "      <td>5.0</td>\n",
       "      <td>3.6</td>\n",
       "      <td>1.4</td>\n",
       "      <td>0.2</td>\n",
       "      <td>setosa</td>\n",
       "    </tr>\n",
       "  </tbody>\n",
       "</table>\n",
       "</div>"
      ],
      "text/plain": [
       "   sepal_len  sepal_wid  petal_len  petal_wid   class\n",
       "0        5.1        3.5        1.4        0.2  setosa\n",
       "1        4.9        3.0        1.4        0.2  setosa\n",
       "2        4.7        3.2        1.3        0.2  setosa\n",
       "3        4.6        3.1        1.5        0.2  setosa\n",
       "4        5.0        3.6        1.4        0.2  setosa"
      ]
     },
     "execution_count": 17,
     "metadata": {},
     "output_type": "execute_result"
    }
   ],
   "source": [
    "# Load iris dataset\n",
    "\n",
    "cols = [\n",
    "    \"sepal_len\",\n",
    "    \"sepal_wid\",\n",
    "    \"petal_len\",\n",
    "    \"petal_wid\",\n",
    "    \"class\"\n",
    "]\n",
    "\n",
    "url = \"https://archive.ics.uci.edu/ml/machine-learning-databases/iris/iris.data\"\n",
    "df = pd.read_csv(url, names=cols)\n",
    "\n",
    "# Cleanup class names\n",
    "names = []\n",
    "for x in df[\"class\"]:\n",
    "    x = x.replace(\"Iris-\",\"\")\n",
    "    names.append(x)\n",
    "    \n",
    "df[\"class\"] = names\n",
    "\n",
    "print(df.shape)\n",
    "df.head()"
   ]
  },
  {
   "cell_type": "code",
   "execution_count": 18,
   "metadata": {},
   "outputs": [
    {
     "data": {
      "text/plain": [
       "versicolor    50\n",
       "virginica     50\n",
       "setosa        50\n",
       "Name: class, dtype: int64"
      ]
     },
     "execution_count": 18,
     "metadata": {},
     "output_type": "execute_result"
    }
   ],
   "source": [
    "df[\"class\"].value_counts()"
   ]
  },
  {
   "cell_type": "markdown",
   "metadata": {},
   "source": [
    "# Step I: Euclidian Distance"
   ]
  },
  {
   "cell_type": "code",
   "execution_count": 19,
   "metadata": {},
   "outputs": [],
   "source": [
    "# the square root of the sum of the squared differences between two vectors\n",
    "# the smaller the value, the more similar two records will be\n",
    "# value of 0 indicates no difference\n",
    "\n",
    "# euclidian distance = sqrt(sum i to N (x1_i - x2_i)^2)\n",
    "\n",
    "# x1 is first row of data, x2 is second row, i is the index to a specific column\n",
    "# as we sum across all columns\n",
    "\n",
    "def euclidean_distance(row1, row2):\n",
    "    \n",
    "    # 0.0 so that distance will float\n",
    "    distance = 0.0\n",
    "    \n",
    "    # loop for columns\n",
    "    for i in range(len(row1) - 1):\n",
    "        # squared difference between the two vectors\n",
    "        distance += (row1[i] - row2[i])**2\n",
    "        \n",
    "    return sqrt(distance)"
   ]
  },
  {
   "cell_type": "code",
   "execution_count": 23,
   "metadata": {},
   "outputs": [
    {
     "name": "stdout",
     "output_type": "stream",
     "text": [
      "0.0\n",
      "1.3290173915275787\n",
      "1.9494646655653247\n",
      "1.5591439385540549\n",
      "0.5356280721938492\n",
      "4.850940186986411\n",
      "2.592833759950511\n",
      "4.214227042632867\n",
      "6.522409988228337\n",
      "4.985585382449795\n"
     ]
    }
   ],
   "source": [
    "# Test distance function\n",
    "dataset = [\n",
    "    [2.7810836,2.550537003,0],\n",
    "    [1.465489372,2.362125076,0],\n",
    "    [3.396561688,4.400293529,0],\n",
    "    [1.38807019,1.850220317,0],\n",
    "    [3.06407232,3.005305973,0],\n",
    "    [7.627531214,2.759262235,1],\n",
    "    [5.332441248,2.088626775,1],\n",
    "    [6.922596716,1.77106367,1],\n",
    "    [8.675418651,-0.242068655,1],\n",
    "    [7.673756466,3.508563011,1]\n",
    "]\n",
    "\n",
    "row0 = dataset[0]\n",
    "\n",
    "for row in dataset:\n",
    "    d = euclidean_distance(row0, row)\n",
    "    print(d)"
   ]
  },
  {
   "cell_type": "markdown",
   "metadata": {},
   "source": [
    "# Step II: Get nearest neighbors"
   ]
  },
  {
   "cell_type": "code",
   "execution_count": 24,
   "metadata": {},
   "outputs": [],
   "source": [
    "# A \"neighbor\" will be the `k`-closest instance per distance measure\n",
    "# Locating a neighbor for new data will involve calculating new data\n",
    "# distance from each observation in dataset"
   ]
  },
  {
   "cell_type": "code",
   "execution_count": 50,
   "metadata": {},
   "outputs": [],
   "source": [
    "def get_neighbors(train, new_obs, k):\n",
    "    \"\"\"\n",
    "    Locates most similar neighbors via euclidian distance.\n",
    "    \n",
    "    Params: \n",
    "        \n",
    "        train: a dataset\n",
    "        \n",
    "        new_obs: a new observation; observation for which neighbors are to be found\n",
    "        \n",
    "        k: k-neighbors; the number of neighbors to be found (int)\n",
    "    \"\"\"\n",
    "    \n",
    "    distances = []\n",
    "    neighbors = []\n",
    "\n",
    "    for i,row in enumerate(train):\n",
    "        # calculate distance\n",
    "        d = euclidean_distance(new_obs, row)\n",
    "\n",
    "        # fill distances list with tuples of row index and distance\n",
    "        distances.append((i, d))\n",
    "\n",
    "        # sort distances by second value in tuple\n",
    "        distances.sort(key=lambda tup: tup[1])\n",
    "\n",
    "    for i in range(k):\n",
    "        # Grabs k-records from distances list\n",
    "        neighbors.append(distances[i])\n",
    "\n",
    "    return neighbors"
   ]
  },
  {
   "cell_type": "code",
   "execution_count": 52,
   "metadata": {},
   "outputs": [
    {
     "name": "stdout",
     "output_type": "stream",
     "text": [
      "(0, 0.0)\n",
      "(4, 0.5356280721938492)\n",
      "(1, 1.3290173915275787)\n"
     ]
    }
   ],
   "source": [
    "# Test get_neighbors \n",
    "\n",
    "nays = get_neighbors(dataset, dataset[0], 3)\n",
    "for n in nays:\n",
    "    print(n)\n",
    "    \n",
    "# As expected, first record is most simlar to itself"
   ]
  },
  {
   "cell_type": "code",
   "execution_count": 54,
   "metadata": {},
   "outputs": [
    {
     "data": {
      "text/plain": [
       "[1.465489372, 2.362125076, 0]"
      ]
     },
     "execution_count": 54,
     "metadata": {},
     "output_type": "execute_result"
    }
   ],
   "source": [
    "dataset[1]"
   ]
  },
  {
   "cell_type": "code",
   "execution_count": 49,
   "metadata": {},
   "outputs": [
    {
     "data": {
      "text/plain": [
       "[3.396561688, 4.400293529, 0]"
      ]
     },
     "execution_count": 49,
     "metadata": {},
     "output_type": "execute_result"
    }
   ],
   "source": [
    "dataset[2]"
   ]
  },
  {
   "cell_type": "markdown",
   "metadata": {},
   "source": [
    "# Step III: Make predictions"
   ]
  },
  {
   "cell_type": "code",
   "execution_count": 82,
   "metadata": {},
   "outputs": [],
   "source": [
    "# For classification, can return the most represented class from the neighbors of the\n",
    "# new observation\n",
    "\n",
    "# Can do this by using `max()` on neighbors list\n",
    "# For ex., if class labels are 0 or 1, and out of 5 neighbors, three of them have a 1,\n",
    "# then `max()` will identify 1 as the max, which we can use as the predicted class\n",
    "\n",
    "def predict_classification(train, new_obs, k):\n",
    "    \"\"\"\n",
    "    Predicts a class label on a new observation from provided training data.\n",
    "    \n",
    "    Params: \n",
    "        \n",
    "        train: a dataset\n",
    "        \n",
    "        new_obs: a new observation; observation for which neighbors are to be found\n",
    "        \n",
    "        k: k-neighbors; the number of neighbors to be found (int)\n",
    "    \"\"\"\n",
    "    # Compile list of neighbors\n",
    "    neighbors = get_neighbors(train, new_obs, k)\n",
    "    \n",
    "    # Compile list of distance values for neighbors\n",
    "    out_vals = [row[-1] for row in neighbors]\n",
    "    \n",
    "    # Get prediction from set of out_vals. Go by max count rather than max val\n",
    "    pred = max(set(out_vals), key=out_vals.count)\n",
    "    \n",
    "    return pred"
   ]
  },
  {
   "cell_type": "code",
   "execution_count": 86,
   "metadata": {},
   "outputs": [
    {
     "name": "stdout",
     "output_type": "stream",
     "text": [
      "Expected: 0 \n",
      "Prediction: 0\n"
     ]
    }
   ],
   "source": [
    "y_pred = predict_classification(dataset, dataset[0], 3)\n",
    "print(f\"Expected: {dataset[0][-1]} \\nPrediction: {y_pred:.0f}\")"
   ]
  },
  {
   "cell_type": "code",
   "execution_count": 87,
   "metadata": {},
   "outputs": [],
   "source": [
    "def accuracy_metric(x, y):\n",
    "    \"\"\"\n",
    "    Calculates accuracy of predictions (on classification problems).\n",
    "    \n",
    "    Params:\n",
    "        \n",
    "        x: actual, or correct labels\n",
    "        \n",
    "        y: predicated labels\n",
    "    \"\"\"\n",
    "    \n",
    "    correct = 0\n",
    "    \n",
    "    for i in range(len(x)):\n",
    "        if x[i] == y[i]:\n",
    "            correct += 1\n",
    "    return correct / float(len(x)) * 100.0"
   ]
  },
  {
   "cell_type": "code",
   "execution_count": null,
   "metadata": {},
   "outputs": [],
   "source": []
  },
  {
   "cell_type": "markdown",
   "metadata": {},
   "source": [
    "# TODO:\n",
    "\n",
    "- Split iris into train and test sets to gauge nn model performance\n",
    "- Convert model to OOP implementation\n",
    "    - KNearestNeighbor class\n",
    "        - `.fit()` method\n",
    "        - `.predict()` method\n",
    "- Import nn model from sklearn and compare"
   ]
  },
  {
   "cell_type": "code",
   "execution_count": null,
   "metadata": {},
   "outputs": [],
   "source": []
  }
 ],
 "metadata": {
  "kernelspec": {
   "display_name": "CS1_Build",
   "language": "python",
   "name": "cs1_build"
  },
  "language_info": {
   "codemirror_mode": {
    "name": "ipython",
    "version": 3
   },
   "file_extension": ".py",
   "mimetype": "text/x-python",
   "name": "python",
   "nbconvert_exporter": "python",
   "pygments_lexer": "ipython3",
   "version": "3.8.0"
  }
 },
 "nbformat": 4,
 "nbformat_minor": 4
}
