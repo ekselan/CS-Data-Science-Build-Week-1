{
 "cells": [
  {
   "cell_type": "markdown",
   "metadata": {},
   "source": [
    "# KNearestNeighbor class \n",
    "- `fit()` method\n",
    "- `predict()` method"
   ]
  },
  {
   "cell_type": "code",
   "execution_count": 23,
   "metadata": {},
   "outputs": [],
   "source": [
    "from math import sqrt"
   ]
  },
  {
   "cell_type": "code",
   "execution_count": 41,
   "metadata": {},
   "outputs": [],
   "source": [
    "class KNearestNeighbor:\n",
    "    \n",
    "    def __init__(self, n_neighbors):\n",
    "        self.n_neighbors = n_neighbors\n",
    "        self.train = None\n",
    "    \n",
    "    def __euclidean_distance(self, row1, row2):\n",
    "        \"\"\"\n",
    "        The square root of the sum of the squared differences between two vectors.\n",
    "        The smaller the value, the more similar two records will be.\n",
    "        Value of 0 indicates no difference.\n",
    "        \n",
    "        euclidian distance = sqrt(sum i to N (x1_i - x2_i)^2)\n",
    "        \"\"\"\n",
    "        # 0.0 so that distance will float\n",
    "        distance = 0.0\n",
    "\n",
    "        # loop for columns\n",
    "        for i in range(len(row1) - 1):\n",
    "            # squared difference between the two vectors\n",
    "            distance += (row1[i] - row2[i])**2\n",
    "\n",
    "        return sqrt(distance)\n",
    "    \n",
    "    \n",
    "    def fit(self, train):\n",
    "        \"\"\"Fits model to training data\"\"\"\n",
    "        self.train = train\n",
    "        \n",
    "    def __get_neighbors(self, train, new_obs, k):\n",
    "        \"\"\"\n",
    "        Locates most similar neighbors via euclidian distance.\n",
    "\n",
    "        Params: \n",
    "\n",
    "            train: a dataset\n",
    "\n",
    "            new_obs: a new observation; observation for which neighbors are to be found\n",
    "\n",
    "            k: k-neighbors; the number of neighbors to be found (int)\n",
    "        \"\"\"\n",
    "\n",
    "        distances = []\n",
    "        neighbors = []\n",
    "\n",
    "        for i,row in enumerate(train):\n",
    "            # calculate distance\n",
    "            d = self.__euclidean_distance(new_obs, row)\n",
    "\n",
    "            # fill distances list with tuples of row index and distance\n",
    "            distances.append((i, d))\n",
    "\n",
    "            # sort distances by second value in tuple\n",
    "            distances.sort(key=lambda tup: tup[1])\n",
    "\n",
    "        for i in range(k):\n",
    "            # Grabs k-records from distances list\n",
    "            neighbors.append(distances[i])\n",
    "\n",
    "        return neighbors\n",
    "    \n",
    "    \n",
    "    def predict(self, new_obs):\n",
    "        \"\"\"\n",
    "        Predicts a class label on a new observation from provided training data.\n",
    "\n",
    "        Params: \n",
    "\n",
    "            new_obs: a new observation; observation for which neighbors are to be found\n",
    "\n",
    "            k: k-neighbors; the number of neighbors to be found (int)\n",
    "        \"\"\"\n",
    "        # Compile list of neighbors\n",
    "        neighbors = self.__get_neighbors(self.train, new_obs, self.n_neighbors)\n",
    "        \n",
    "        # Grab index of the closest neighbor\n",
    "        n_index = neighbors[0][0]\n",
    "\n",
    "        # Prediction is the label from train record at n_index location. Assumes label\n",
    "        # is at end of record.\n",
    "        pred = self.train[n_index][-1]\n",
    "\n",
    "        return pred"
   ]
  },
  {
   "cell_type": "code",
   "execution_count": 2,
   "metadata": {},
   "outputs": [],
   "source": [
    "dataset = [\n",
    "    [2.7810836,2.550537003,0],\n",
    "    [1.465489372,2.362125076,0],\n",
    "    [3.396561688,4.400293529,0],\n",
    "    [1.38807019,1.850220317,0],\n",
    "    [3.06407232,3.005305973,0],\n",
    "    [7.627531214,2.759262235,1],\n",
    "    [5.332441248,2.088626775,1],\n",
    "    [6.922596716,1.77106367,1],\n",
    "    [8.675418651,-0.242068655,1],\n",
    "    [7.673756466,3.508563011,1]\n",
    "]"
   ]
  },
  {
   "cell_type": "code",
   "execution_count": 42,
   "metadata": {},
   "outputs": [],
   "source": [
    "nn = KNearestNeighbor(n_neighbors=3)"
   ]
  },
  {
   "cell_type": "code",
   "execution_count": 43,
   "metadata": {},
   "outputs": [],
   "source": [
    "nn.fit(dataset)"
   ]
  },
  {
   "cell_type": "code",
   "execution_count": 44,
   "metadata": {},
   "outputs": [
    {
     "data": {
      "text/plain": [
       "1"
      ]
     },
     "execution_count": 44,
     "metadata": {},
     "output_type": "execute_result"
    }
   ],
   "source": [
    "new = [8.675418651,-0.242068655,1]\n",
    "nn.predict(new)"
   ]
  },
  {
   "cell_type": "code",
   "execution_count": 45,
   "metadata": {},
   "outputs": [
    {
     "data": {
      "text/plain": [
       "[0, 0, 0, 0, 0, 1, 1, 1, 1, 1]"
      ]
     },
     "execution_count": 45,
     "metadata": {},
     "output_type": "execute_result"
    }
   ],
   "source": [
    "samp = [\n",
    "    [2.7810836,2.550537003],\n",
    "    [1.465489372,2.362125076],\n",
    "    [3.396561688,4.400293529],\n",
    "    [1.38807019,1.850220317],\n",
    "    [3.06407232,3.005305973],\n",
    "    [7.627531214,2.759262235],\n",
    "    [5.332441248,2.088626775],\n",
    "    [6.922596716,1.77106367],\n",
    "    [8.675418651,-0.242068655],\n",
    "    [7.673756466,3.508563011]\n",
    "]\n",
    "\n",
    "predictions = []\n",
    "\n",
    "for obs in samp:\n",
    "    pred = nn.predict(obs)\n",
    "    predictions.append(pred)\n",
    "\n",
    "predictions"
   ]
  },
  {
   "cell_type": "code",
   "execution_count": null,
   "metadata": {},
   "outputs": [],
   "source": []
  }
 ],
 "metadata": {
  "kernelspec": {
   "display_name": "CS1_Build",
   "language": "python",
   "name": "cs1_build"
  },
  "language_info": {
   "codemirror_mode": {
    "name": "ipython",
    "version": 3
   },
   "file_extension": ".py",
   "mimetype": "text/x-python",
   "name": "python",
   "nbconvert_exporter": "python",
   "pygments_lexer": "ipython3",
   "version": "3.8.0"
  }
 },
 "nbformat": 4,
 "nbformat_minor": 4
}
