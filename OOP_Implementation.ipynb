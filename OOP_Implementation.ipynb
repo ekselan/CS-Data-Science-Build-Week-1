{
 "cells": [
  {
   "cell_type": "markdown",
   "metadata": {},
   "source": [
    "# KNearestNeighbor class \n",
    "- `fit()` method\n",
    "- `predict()` method"
   ]
  },
  {
   "cell_type": "code",
   "execution_count": 23,
   "metadata": {},
   "outputs": [],
   "source": [
    "from math import sqrt"
   ]
  },
  {
   "cell_type": "code",
   "execution_count": 74,
   "metadata": {},
   "outputs": [],
   "source": [
    "class KNearestNeighbor:\n",
    "    \n",
    "    def __init__(self, n_neighbors):\n",
    "        self.n_neighbors = n_neighbors\n",
    "        self.train = None\n",
    "    \n",
    "    def __euclidean_distance(self, row1, row2):\n",
    "        \"\"\"\n",
    "        The square root of the sum of the squared differences between two vectors.\n",
    "        The smaller the value, the more similar two records will be.\n",
    "        Value of 0 indicates no difference.\n",
    "        \n",
    "        euclidian distance = sqrt(sum i to N (x1_i - x2_i)^2)\n",
    "        \"\"\"\n",
    "        # 0.0 so that distance will float\n",
    "        distance = 0.0\n",
    "\n",
    "        # loop for columns\n",
    "        for i in range(len(row1) - 1):\n",
    "            # squared difference between the two vectors\n",
    "            distance += (row1[i] - row2[i])**2\n",
    "\n",
    "        return sqrt(distance)\n",
    "    \n",
    "    \n",
    "    def fit(self, train):\n",
    "        \"\"\"Fits model to training data\"\"\"\n",
    "        self.train = train\n",
    "        \n",
    "    def __get_neighbors(self, train, new_obs, k):\n",
    "        \"\"\"\n",
    "        Locates most similar neighbors via euclidian distance.\n",
    "\n",
    "        Params: \n",
    "\n",
    "            train: a dataset\n",
    "\n",
    "            new_obs: a new observation; observation for which neighbors are to be found\n",
    "\n",
    "            k: k-neighbors; the number of neighbors to be found (int)\n",
    "        \"\"\"\n",
    "\n",
    "        distances = []\n",
    "        neighbors = []\n",
    "        \n",
    "        # Rules for whether or not train is a pandas.DataFrame\n",
    "        if type(train) == pd.core.frame.DataFrame:\n",
    "            \n",
    "            for i,row in train.iterrows():\n",
    "                # calculate distance\n",
    "                d = self.__euclidean_distance(new_obs, list(row))\n",
    "\n",
    "                # fill distances list with tuples of row index and distance\n",
    "                distances.append((i, d))\n",
    "\n",
    "                # sort distances by second value in tuple\n",
    "                distances.sort(key=lambda tup: tup[1])\n",
    "        else:\n",
    "            \n",
    "            for i,row in enumerate(train):\n",
    "                # calculate distance\n",
    "                d = self.__euclidean_distance(new_obs, row)\n",
    "\n",
    "                # fill distances list with tuples of row index and distance\n",
    "                distances.append((i, d))\n",
    "\n",
    "                # sort distances by second value in tuple\n",
    "                distances.sort(key=lambda tup: tup[1])\n",
    "\n",
    "        for i in range(k):\n",
    "            # Grabs k-records from distances list\n",
    "            neighbors.append(distances[i])\n",
    "\n",
    "        return neighbors\n",
    "    \n",
    "    \n",
    "    def predict(self, train, new_obs):\n",
    "        \"\"\"\n",
    "        Predicts a class label on a new observation from provided training data.\n",
    "\n",
    "        Params: \n",
    "\n",
    "            new_obs: a new observation; observation for which neighbors are to be found\n",
    "\n",
    "            k: k-neighbors; the number of neighbors to be found (int)\n",
    "        \"\"\"\n",
    "        self.train = train #> for some reason, defining the model again with passing\n",
    "                           #> in train with method call brought accuracy up to 95%,\n",
    "                           #> whereas without this, accuracy was 31%. Not clear why \n",
    "                           #> this is the case since self.train is already defined in\n",
    "                           #> the `model.fit()` call ...\n",
    "        \n",
    "        # Compile list of neighbors\n",
    "        neighbors = self.__get_neighbors(self.train, new_obs, self.n_neighbors)\n",
    "        \n",
    "        # Grab index of the closest neighbor\n",
    "        n_index = neighbors[0][0]\n",
    "        \n",
    "        # Add rules for if train is a pandas.DataFrame\n",
    "        if type(self.train) == pd.core.frame.DataFrame:\n",
    "            # Assumes labels are in last column of dataframe\n",
    "            loc = self.train.columns[-1]\n",
    "            pred = self.train[loc][n_index]\n",
    "        else:\n",
    "            # Prediction is the label from train record at n_index location. Assumes label\n",
    "            # is at end of record.\n",
    "            pred = self.train[n_index][-1]\n",
    "\n",
    "        return pred\n",
    "    \n",
    "    def score(self, x, y):\n",
    "        \"\"\"\n",
    "        Calculates accuracy of predictions (on classification problems).\n",
    "\n",
    "        Params:\n",
    "\n",
    "            x: actual, or correct labels\n",
    "\n",
    "            y: predicated labels\n",
    "        \"\"\"\n",
    "\n",
    "        correct = 0\n",
    "\n",
    "        for i in range(len(x)):\n",
    "            # Rules for if `x` is a pandas.Series\n",
    "            if type(x) == pd.core.series.Series:\n",
    "                if x.iloc[i] == y[i]:\n",
    "                    correct += 1\n",
    "\n",
    "            else:\n",
    "                if x[i] == y[i]:\n",
    "                    correct += 1\n",
    "\n",
    "        return correct / float(len(x)) * 100.0"
   ]
  },
  {
   "cell_type": "code",
   "execution_count": 2,
   "metadata": {},
   "outputs": [],
   "source": [
    "dataset = [\n",
    "    [2.7810836,2.550537003,0],\n",
    "    [1.465489372,2.362125076,0],\n",
    "    [3.396561688,4.400293529,0],\n",
    "    [1.38807019,1.850220317,0],\n",
    "    [3.06407232,3.005305973,0],\n",
    "    [7.627531214,2.759262235,1],\n",
    "    [5.332441248,2.088626775,1],\n",
    "    [6.922596716,1.77106367,1],\n",
    "    [8.675418651,-0.242068655,1],\n",
    "    [7.673756466,3.508563011,1]\n",
    "]"
   ]
  },
  {
   "cell_type": "code",
   "execution_count": 75,
   "metadata": {},
   "outputs": [],
   "source": [
    "nn = KNearestNeighbor(n_neighbors=3)"
   ]
  },
  {
   "cell_type": "code",
   "execution_count": 76,
   "metadata": {},
   "outputs": [],
   "source": [
    "nn.fit(dataset)"
   ]
  },
  {
   "cell_type": "code",
   "execution_count": 77,
   "metadata": {},
   "outputs": [
    {
     "data": {
      "text/plain": [
       "1"
      ]
     },
     "execution_count": 77,
     "metadata": {},
     "output_type": "execute_result"
    }
   ],
   "source": [
    "new = [8.675418651,-0.242068655,1]\n",
    "nn.predict(dataset, new)"
   ]
  },
  {
   "cell_type": "code",
   "execution_count": 79,
   "metadata": {},
   "outputs": [
    {
     "data": {
      "text/plain": [
       "[0, 0, 0, 0, 0, 1, 1, 1, 1, 1]"
      ]
     },
     "execution_count": 79,
     "metadata": {},
     "output_type": "execute_result"
    }
   ],
   "source": [
    "samp = [\n",
    "    [2.7810836,2.550537003],\n",
    "    [1.465489372,2.362125076],\n",
    "    [3.396561688,4.400293529],\n",
    "    [1.38807019,1.850220317],\n",
    "    [3.06407232,3.005305973],\n",
    "    [7.627531214,2.759262235],\n",
    "    [5.332441248,2.088626775],\n",
    "    [6.922596716,1.77106367],\n",
    "    [8.675418651,-0.242068655],\n",
    "    [7.673756466,3.508563011]\n",
    "]\n",
    "\n",
    "predictions = []\n",
    "\n",
    "for obs in samp:\n",
    "    pred = nn.predict(dataset, obs)\n",
    "    predictions.append(pred)\n",
    "\n",
    "predictions"
   ]
  },
  {
   "cell_type": "markdown",
   "metadata": {},
   "source": [
    "# Load and split iris data"
   ]
  },
  {
   "cell_type": "code",
   "execution_count": 62,
   "metadata": {},
   "outputs": [],
   "source": [
    "import pandas as pd\n",
    "import numpy as np\n",
    "from sklearn.model_selection import train_test_split\n",
    "\n",
    "### Load iris dataset\n",
    "\n",
    "cols = [\n",
    "    \"sepal_len\",\n",
    "    \"sepal_wid\",\n",
    "    \"petal_len\",\n",
    "    \"petal_wid\",\n",
    "    \"class\"\n",
    "]\n",
    "\n",
    "url = \"https://archive.ics.uci.edu/ml/machine-learning-databases/iris/iris.data\"\n",
    "df = pd.read_csv(url, names=cols)\n",
    "\n",
    "# Cleanup class names\n",
    "names = []\n",
    "for x in df[\"class\"]:\n",
    "    x = x.replace(\"Iris-\",\"\")\n",
    "    names.append(x)\n",
    "    \n",
    "df[\"class\"] = names\n",
    "\n",
    "# Encode class names\n",
    "labels = []\n",
    "for x in df[\"class\"]:\n",
    "    x = x.replace(\"versicolor\",\"0\")\n",
    "    x = x.replace(\"virginica\",\"1\")\n",
    "    x = x.replace(\"setosa\",\"2\")\n",
    "    x = int(x)\n",
    "    labels.append(x)\n",
    "    \n",
    "df[\"class\"] = labels\n",
    "\n",
    "\n",
    "### Split iris data into train and test sets\n",
    "\n",
    "train, test = train_test_split(df, train_size=0.70, test_size=0.30, random_state=5)\n",
    "\n",
    "# X feature matrices, y target vectors\n",
    "target = \"class\"\n",
    "\n",
    "X_test = test.drop(target, axis=1)\n",
    "y_test = test[target]"
   ]
  },
  {
   "cell_type": "markdown",
   "metadata": {},
   "source": [
    "# Generate predictions with KNearestNeighbor"
   ]
  },
  {
   "cell_type": "code",
   "execution_count": 80,
   "metadata": {},
   "outputs": [
    {
     "data": {
      "text/plain": [
       "45"
      ]
     },
     "execution_count": 80,
     "metadata": {},
     "output_type": "execute_result"
    }
   ],
   "source": [
    "predictions = []\n",
    "\n",
    "for _, obs in X_test.iterrows():\n",
    "    pred = nn.predict(train, list(obs))\n",
    "    predictions.append(pred)\n",
    "\n",
    "len(predictions)"
   ]
  },
  {
   "cell_type": "code",
   "execution_count": 70,
   "metadata": {},
   "outputs": [
    {
     "data": {
      "text/plain": [
       "2"
      ]
     },
     "execution_count": 70,
     "metadata": {},
     "output_type": "execute_result"
    }
   ],
   "source": [
    "y_test.iloc[3]"
   ]
  },
  {
   "cell_type": "code",
   "execution_count": 71,
   "metadata": {},
   "outputs": [
    {
     "data": {
      "text/plain": [
       "1"
      ]
     },
     "execution_count": 71,
     "metadata": {},
     "output_type": "execute_result"
    }
   ],
   "source": [
    "predictions[3]"
   ]
  },
  {
   "cell_type": "code",
   "execution_count": 82,
   "metadata": {},
   "outputs": [
    {
     "name": "stdout",
     "output_type": "stream",
     "text": [
      "ABW KNearestNeighbors (OOP) Accuracy: 95.56\n"
     ]
    }
   ],
   "source": [
    "print(f\"ABW KNearestNeighbors (OOP) Accuracy: {nn.score(y_test, predictions):.2f}\")"
   ]
  },
  {
   "cell_type": "markdown",
   "metadata": {},
   "source": [
    "# Benchmark scikit-learn version to compare"
   ]
  },
  {
   "cell_type": "code",
   "execution_count": 84,
   "metadata": {},
   "outputs": [
    {
     "name": "stdout",
     "output_type": "stream",
     "text": [
      "Sklearn KNeighborsClassifier Accuracy: 0.96\n"
     ]
    }
   ],
   "source": [
    "# Split train into x and y for use with sklearn model\n",
    "\n",
    "X_train = train.drop(target, axis=1)\n",
    "y_train = train[target]\n",
    "\n",
    "# print(X_train.shape, y_train.shape)\n",
    "\n",
    "# Import KNeighborsClassifier for comparison to my own\n",
    "# KNearestNeighbor (classifier)\n",
    "from sklearn.neighbors import KNeighborsClassifier\n",
    "\n",
    "# create instance object\n",
    "sk_nn = KNeighborsClassifier(n_neighbors=3) #> to match\n",
    "\n",
    "# fit model\n",
    "sk_nn.fit(X_train, y_train)\n",
    "\n",
    "# Generate predictions\n",
    "sk_preds = sk_nn.predict(X_test)\n",
    "\n",
    "print(f\"Sklearn KNeighborsClassifier Accuracy: {sk_nn.score(X_test, y_test):.2f}\")"
   ]
  },
  {
   "cell_type": "markdown",
   "metadata": {},
   "source": [
    "# TODO:\n",
    "\n",
    "- blog post\n",
    "- cleanup notebooks / repo"
   ]
  },
  {
   "cell_type": "code",
   "execution_count": null,
   "metadata": {},
   "outputs": [],
   "source": []
  }
 ],
 "metadata": {
  "kernelspec": {
   "display_name": "CS1_Build",
   "language": "python",
   "name": "cs1_build"
  },
  "language_info": {
   "codemirror_mode": {
    "name": "ipython",
    "version": 3
   },
   "file_extension": ".py",
   "mimetype": "text/x-python",
   "name": "python",
   "nbconvert_exporter": "python",
   "pygments_lexer": "ipython3",
   "version": "3.8.0"
  }
 },
 "nbformat": 4,
 "nbformat_minor": 4
}
